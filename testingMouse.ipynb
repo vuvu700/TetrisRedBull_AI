{
 "cells": [
  {
   "cell_type": "code",
   "execution_count": 282,
   "id": "ad71dae1",
   "metadata": {},
   "outputs": [],
   "source": [
    "from pynput.mouse import Controller as Mouse, Button as MouseBtn\n",
    "from pynput import keyboard\n",
    "import time\n",
    "import attrs\n",
    "\n",
    "MOUSE = Mouse()\n",
    "KEYBOARD = keyboard.Controller()\n",
    "\n",
    "@attrs.frozen\n",
    "class ActionSetup():\n",
    "    dx: int\n",
    "    dt: float\n",
    "\n",
    "@attrs.frozen\n",
    "class MouseSetup():\n",
    "    # actions related\n",
    "    slide: ActionSetup\n",
    "    memory: ActionSetup\n",
    "    drop: ActionSetup\n",
    "    rotateDuration: float|None\n",
    "    \n",
    "    # env related\n",
    "    deviceSize: tuple[int, int]\n",
    "    isFullScreen: bool\n",
    "\n",
    "\n",
    "TETRIS_FULLSCREEN = MouseSetup(\n",
    "    slide=ActionSetup(65, 0.3),\n",
    "    memory=ActionSetup(100, 0.1),\n",
    "    drop=ActionSetup(100, 0.1),\n",
    "    rotateDuration=0.01,\n",
    "    deviceSize=(1000, 1000), isFullScreen=True)\n",
    "\n",
    "CURRENT_SETUP = TETRIS_FULLSCREEN\n"
   ]
  },
  {
   "cell_type": "code",
   "execution_count": 283,
   "id": "a48bed0e",
   "metadata": {},
   "outputs": [],
   "source": [
    "def mouseDragVertical(\n",
    "        dist:int, duration:float, goDown: bool, goBack: bool = True) -> None:\n",
    "    dist = dist * (1 if goDown else -1)\n",
    "    MOUSE.press(MouseBtn.left)\n",
    "    MOUSE.move(0, dist)\n",
    "    time.sleep(duration)\n",
    "    MOUSE.release(MouseBtn.left)\n",
    "    if goBack is True:\n",
    "        MOUSE.move(0, -dist)\n",
    "\n",
    "\n",
    "def decomposeMove(dPx: int, N: int) -> list[int]:\n",
    "    assert N > 0\n",
    "    q, r = divmod(abs(dPx), N)\n",
    "    sign = (1 if dPx >= 0 else -1)\n",
    "    steps = [sign * (q + 1) for _ in range(r)]\n",
    "    steps.extend(sign * q for _ in range(N - r))\n",
    "    return steps\n",
    "\n",
    "def mouseDragSides(\n",
    "        dx: int, duration: float, \n",
    "        nbSteps: int|None = None, goBack: bool = True) -> None:\n",
    "    if nbSteps is None:\n",
    "        # => move 1 px at each step\n",
    "        nbSteps = abs(dx) \n",
    "    steps = decomposeMove(dx, nbSteps)\n",
    "    MOUSE.press(MouseBtn.left)\n",
    "    start = time.perf_counter()\n",
    "    sleep_time = 0\n",
    "    for i in range(nbSteps):\n",
    "        MOUSE.move(steps[i], 0)\n",
    "        target = start + (i + 1) * (duration / nbSteps)\n",
    "        sleep_time = target - time.perf_counter()\n",
    "        if sleep_time > 0:\n",
    "            time.sleep(sleep_time)\n",
    "    MOUSE.release(MouseBtn.left)\n",
    "    if goBack is True:\n",
    "        MOUSE.move(-dx, 0)\n",
    "\n",
    "\n",
    "def slideBy(nbBlocks:int)->None:\n",
    "    \"\"\"slide the current block by `nbBlocks`\n",
    "    `nbBlocks` < 0 => to the left | > 0 to the rigth | can't be 0\"\"\"\n",
    "    assert nbBlocks != 0\n",
    "    mouseDragSides(\n",
    "        dx=nbBlocks*CURRENT_SETUP.slide.dx,\n",
    "        duration=CURRENT_SETUP.slide.dt,\n",
    "        nbSteps=None, goBack=True)\n",
    "\n",
    "def dropBlock()->None:\n",
    "    mouseDragVertical(\n",
    "        dist=CURRENT_SETUP.drop.dx, \n",
    "        duration=CURRENT_SETUP.drop.dt,\n",
    "        goDown=True, goBack=True)\n",
    "    \n",
    "def putInMemory()->None:\n",
    "    mouseDragVertical(\n",
    "        dist=CURRENT_SETUP.memory.dx, \n",
    "        duration=CURRENT_SETUP.memory.dt,\n",
    "        goDown=False, goBack=True)\n",
    "\n",
    "def rotateBy(nbRigthRotations:int)->None:\n",
    "    for _ in range(nbRigthRotations):\n",
    "        MOUSE.press(MouseBtn.left)\n",
    "        if CURRENT_SETUP.rotateDuration is not None:\n",
    "            time.sleep(CURRENT_SETUP.rotateDuration)\n",
    "        MOUSE.release(MouseBtn.left)"
   ]
  },
  {
   "cell_type": "code",
   "execution_count": 284,
   "id": "33c81b43",
   "metadata": {},
   "outputs": [],
   "source": [
    "from holo.protocols import _P, _T\n",
    "from holo.__typing import Callable, Generic, Iterable\n",
    "from holo.prettyFormats import prettyPrint, PrettyfyClass, prettyTime\n",
    "from holo.profilers import SimpleProfiler, _ProfilerCategory, Profiler\n",
    "\n",
    "\n",
    "\n",
    "class CallPack(Generic[_P, _T], PrettyfyClass):\n",
    "    def __init__(self, func:Callable[_P, _T], *args:_P.args, \n",
    "                 **kwargs:_P.kwargs) -> None:\n",
    "        self.func = func\n",
    "        self.args = args\n",
    "        self.kwargs = kwargs\n",
    "    \n",
    "    def call(self)->_T:\n",
    "        return self.func(*self.args, **self.kwargs)\n",
    "\n",
    "def waitPress(trueKey:str, falseKey:str) -> bool:\n",
    "    result: bool | None = None\n",
    "    def on_press(key: keyboard.KeyCode | keyboard.Key | None) -> bool:\n",
    "        nonlocal result\n",
    "        if not isinstance(key, (keyboard.KeyCode)):\n",
    "            return True\n",
    "        if key.char == trueKey:\n",
    "            result = True\n",
    "        elif key.char == falseKey:\n",
    "            result = False\n",
    "        else: \n",
    "            return True # continue\n",
    "        return False  # Stop listener\n",
    "    with keyboard.Listener(on_press=on_press) as listener: # type: ignore  \n",
    "        listener.join()\n",
    "    assert result is not None\n",
    "    return result\n",
    "\n",
    "\n",
    "def testCalls(configs:list[CallPack])->list[tuple[bool, CallPack]]:\n",
    "    results: list[tuple[bool, CallPack]] = []\n",
    "    for cfg in configs:\n",
    "        cfg.call()\n",
    "        success = waitPress(trueKey=\",\", falseKey=\";\")\n",
    "        results.append((success, cfg))\n",
    "    return results\n",
    "\n",
    "\n",
    "def mesureExec(configs:list[CallPack], N:int):\n",
    "    pt = prettyTime\n",
    "    _prof = Profiler([])\n",
    "    for cfg in configs:\n",
    "        cat = _ProfilerCategory(_prof)\n",
    "        for i in range(N):\n",
    "            with SimpleProfiler() as sp:\n",
    "                cfg.call()\n",
    "            cat._update(sp.time())\n",
    "        print(f\"-> mean: {pt(cat.avgMesure())} +- {pt(cat.stdMesure())} for {cfg.kwargs}\")\n"
   ]
  },
  {
   "cell_type": "code",
   "execution_count": 285,
   "id": "1bef28ee",
   "metadata": {},
   "outputs": [],
   "source": [
    "### tests  done with the 1000x1000 virtual device on my personal computer\n",
    "def genOpposit(configs:list[CallPack])->list[CallPack]:\n",
    "    res: list[CallPack] = []\n",
    "    for cfg in configs:\n",
    "        res.append(cfg)\n",
    "        kwargs2 = cfg.kwargs.copy()\n",
    "        kwargs2[\"dx\"] *= -1\n",
    "        res.append(CallPack(cfg.func, *cfg.args, **kwargs2))\n",
    "    return res\n",
    "def sign(dx:int):\n",
    "    return (-1 if dx < 0 else +1)\n",
    "\n",
    "#### try to move by 1 ####\n",
    "\n",
    "# determine a good slow DX (found 60 to be working)\n",
    "setup1 = genOpposit([\n",
    "    CallPack(mouseDragSides, dx=dx, duration=0.3, nbSteps=None, goBack=True)\n",
    "    for dx in [45, 50, 55, 60, 65, 70]])\n",
    "# determine a good faster DX (found 60 to be working)\n",
    "setup2 = genOpposit([\n",
    "    CallPack(mouseDragSides, dx=dx, duration=0.1, nbSteps=None, goBack=True)\n",
    "    for dx in [45, 50, 55, 60, 65, 70]])\n",
    "# determine the nb of steps (found None is best)\n",
    "setup3 = genOpposit([\n",
    "    CallPack(mouseDragSides, dx=60, duration=0.3, nbSteps=i, goBack=True)\n",
    "    for i in [1, 2, 3, 5, 10, 20, 30, 60, None]])\n",
    "# now refine the dx (found 62 to be safe)\n",
    "setup4 = genOpposit([\n",
    "    CallPack(mouseDragSides, dx=dx, duration=0.1, nbSteps=None, goBack=True)\n",
    "    for dx in [55, 56, 57, 58, 59, 60, 61, 62, 63, 64, 65, 66]])\n",
    "# try to go even faster (0.05 is UNSTABLE, 0.1 is STABLE, deeper search maybe later)\n",
    "setup5 = genOpposit([\n",
    "    CallPack(mouseDragSides, dx=dx, duration=0.075, nbSteps=None, goBack=True)\n",
    "    for dx in [55, 56, 57, 58, 59, 60, 61, 62, 63, 64, 65, 66]])\n",
    "\n",
    "\n",
    "#### try to move by 3 (it is the max a piece will have to move) ####\n",
    "def moveByXFunc(dx:int, duration:float, X:int):\n",
    "    for _ in range(10):\n",
    "        mouseDragSides(dx=65*sign(-dx), duration=0.2, nbSteps=None, goBack=True)\n",
    "    mouseDragSides(dx=3*dx, duration=duration, nbSteps=None, goBack=True)\n",
    "\n",
    "# determine a good DX\n",
    "setup1_by3 = genOpposit([\n",
    "    CallPack(moveByXFunc, dx=dx, duration=0.2, X=3)\n",
    "    for dx in [55, 60, 65, 70, 75, 80]])\n",
    "\n",
    "\n",
    "#### try to rotate a piece ####\n",
    "def rotateTests(duration:float|None)->None:\n",
    "    for _ in range(2):\n",
    "        MOUSE.press(MouseBtn.left)\n",
    "        if duration is not None: \n",
    "            time.sleep(duration)\n",
    "        MOUSE.release(MouseBtn.left)\n",
    "\n",
    "setup1_rotate = [CallPack(rotateTests, duration=dt) \n",
    "                 for dt in [0.1, 0.075, 0.05, 0.025, 0.01, 0.005, 0.001, None]]"
   ]
  },
  {
   "cell_type": "code",
   "execution_count": 237,
   "id": "89a6e597",
   "metadata": {},
   "outputs": [
    {
     "name": "stdout",
     "output_type": "stream",
     "text": [
      "[\n",
      "    CallPack(func=<function mouseDragSides at 0x0000014806E10900>, args=(), kwargs={dx: 45, duration: 0.3, nbSteps: None, goBack: True}),\n",
      "    CallPack(func=<function mouseDragSides at 0x0000014806E10900>, args=(), kwargs={dx: -45, duration: 0.3, nbSteps: None, goBack: True}),\n",
      "    CallPack(func=<function mouseDragSides at 0x0000014806E10900>, args=(), kwargs={dx: 50, duration: 0.3, nbSteps: None, goBack: True}),\n",
      "    CallPack(func=<function mouseDragSides at 0x0000014806E10900>, args=(), kwargs={dx: -50, duration: 0.3, nbSteps: None, goBack: True}),\n",
      "    CallPack(func=<function mouseDragSides at 0x0000014806E10900>, args=(), kwargs={dx: 55, duration: 0.3, nbSteps: None, goBack: True}),\n",
      "    CallPack(func=<function mouseDragSides at 0x0000014806E10900>, args=(), kwargs={dx: -55, duration: 0.3, nbSteps: None, goBack: True}),\n",
      "    CallPack(func=<function mouseDragSides at 0x0000014806E10900>, args=(), kwargs={dx: 60, duration: 0.3, nbSteps: None, goBack: True}),\n",
      "    CallPack(func=<function mouseDragSides at 0x0000014806E10900>, args=(), kwargs={dx: -60, duration: 0.3, nbSteps: None, goBack: True}),\n",
      "    CallPack(func=<function mouseDragSides at 0x0000014806E10900>, args=(), kwargs={dx: 65, duration: 0.3, nbSteps: None, goBack: True}),\n",
      "    CallPack(func=<function mouseDragSides at 0x0000014806E10900>, args=(), kwargs={dx: -65, duration: 0.3, nbSteps: None, goBack: True}),\n",
      "    CallPack(func=<function mouseDragSides at 0x0000014806E10900>, args=(), kwargs={dx: 70, duration: 0.3, nbSteps: None, goBack: True}),\n",
      "    CallPack(func=<function mouseDragSides at 0x0000014806E10900>, args=(), kwargs={dx: -70, duration: 0.3, nbSteps: None, goBack: True})\n",
      "]\n"
     ]
    }
   ],
   "source": [
    "prettyPrint(setup1, specificCompact={CallPack})"
   ]
  },
  {
   "cell_type": "code",
   "execution_count": 239,
   "id": "88bb67c1",
   "metadata": {},
   "outputs": [
    {
     "name": "stdout",
     "output_type": "stream",
     "text": [
      "[\n",
      "    (False, {dx: 45, duration: 0.3, nbSteps: None, goBack: True}),\n",
      "    (False, {dx: -45, duration: 0.3, nbSteps: None, goBack: True}),\n",
      "    (False, {dx: 50, duration: 0.3, nbSteps: None, goBack: True}),\n",
      "    (False, {dx: -50, duration: 0.3, nbSteps: None, goBack: True}),\n",
      "    (True, {dx: 55, duration: 0.3, nbSteps: None, goBack: True}),\n",
      "    (True, {dx: -55, duration: 0.3, nbSteps: None, goBack: True}),\n",
      "    (True, {dx: 60, duration: 0.3, nbSteps: None, goBack: True}),\n",
      "    (True, {dx: -60, duration: 0.3, nbSteps: None, goBack: True}),\n",
      "    (True, {dx: 65, duration: 0.3, nbSteps: None, goBack: True}),\n",
      "    (True, {dx: -65, duration: 0.3, nbSteps: None, goBack: True}),\n",
      "    (True, {dx: 70, duration: 0.3, nbSteps: None, goBack: True}),\n",
      "    (True, {dx: -70, duration: 0.3, nbSteps: None, goBack: True})\n",
      "]\n"
     ]
    }
   ],
   "source": [
    "time.sleep(5)\n",
    "res = testCalls(setup1)\n",
    "prettyPrint(res, specificCompact={tuple, dict}, specificFormats={CallPack: lambda x:x.kwargs})"
   ]
  },
  {
   "cell_type": "code",
   "execution_count": null,
   "id": "794a6444",
   "metadata": {},
   "outputs": [
    {
     "name": "stdout",
     "output_type": "stream",
     "text": [
      "-> mean: 301.453 ms +- 0.716 ms for {'dx': 45, 'duration': 0.3, 'nbSteps': None, 'goBack': True}\n",
      "-> mean: 301.027 ms +- 80.036 μs for {'dx': -45, 'duration': 0.3, 'nbSteps': None, 'goBack': True}\n",
      "-> mean: 301.098 ms +- 0.102 ms for {'dx': 50, 'duration': 0.3, 'nbSteps': None, 'goBack': True}\n",
      "-> mean: 300.941 ms +- 0.142 ms for {'dx': -50, 'duration': 0.3, 'nbSteps': None, 'goBack': True}\n",
      "-> mean: 300.972 ms +- 0.298 ms for {'dx': 55, 'duration': 0.3, 'nbSteps': None, 'goBack': True}\n",
      "-> mean: 301.152 ms +- 0.190 ms for {'dx': -55, 'duration': 0.3, 'nbSteps': None, 'goBack': True}\n",
      "-> mean: 301.010 ms +- 0.276 ms for {'dx': 60, 'duration': 0.3, 'nbSteps': None, 'goBack': True}\n",
      "-> mean: 301.500 ms +- 1.028 ms for {'dx': -60, 'duration': 0.3, 'nbSteps': None, 'goBack': True}\n",
      "-> mean: 301.174 ms +- 0.449 ms for {'dx': 65, 'duration': 0.3, 'nbSteps': None, 'goBack': True}\n",
      "-> mean: 301.218 ms +- 0.443 ms for {'dx': -65, 'duration': 0.3, 'nbSteps': None, 'goBack': True}\n",
      "-> mean: 301.132 ms +- 0.180 ms for {'dx': 70, 'duration': 0.3, 'nbSteps': None, 'goBack': True}\n",
      "-> mean: 300.803 ms +- 0.190 ms for {'dx': -70, 'duration': 0.3, 'nbSteps': None, 'goBack': True}\n"
     ]
    }
   ],
   "source": [
    "time.sleep(5)\n",
    "mesureExec(setup1, N=3)"
   ]
  },
  {
   "cell_type": "code",
   "execution_count": null,
   "id": "d52db96b",
   "metadata": {},
   "outputs": [
    {
     "name": "stdout",
     "output_type": "stream",
     "text": [
      "[\n",
      "    (False, {dx: 45, duration: 0.1, nbSteps: None, goBack: True}),\n",
      "    (False, {dx: -45, duration: 0.1, nbSteps: None, goBack: True}),\n",
      "    (False, {dx: 50, duration: 0.1, nbSteps: None, goBack: True}),\n",
      "    (False, {dx: -50, duration: 0.1, nbSteps: None, goBack: True}),\n",
      "    (False, {dx: 55, duration: 0.1, nbSteps: None, goBack: True}),\n",
      "    (False, {dx: -55, duration: 0.1, nbSteps: None, goBack: True}),\n",
      "    (True, {dx: 60, duration: 0.1, nbSteps: None, goBack: True}),\n",
      "    (True, {dx: -60, duration: 0.1, nbSteps: None, goBack: True}),\n",
      "    (True, {dx: 65, duration: 0.1, nbSteps: None, goBack: True}),\n",
      "    (True, {dx: -65, duration: 0.1, nbSteps: None, goBack: True}),\n",
      "    (True, {dx: 70, duration: 0.1, nbSteps: None, goBack: True}),\n",
      "    (True, {dx: -70, duration: 0.1, nbSteps: None, goBack: True})\n",
      "]\n"
     ]
    }
   ],
   "source": [
    "time.sleep(5)\n",
    "res = testCalls(setup2)\n",
    "prettyPrint(res, specificCompact={tuple, dict}, specificFormats={CallPack: lambda x:x.kwargs})"
   ]
  },
  {
   "cell_type": "code",
   "execution_count": null,
   "id": "59369af1",
   "metadata": {},
   "outputs": [
    {
     "name": "stdout",
     "output_type": "stream",
     "text": [
      "-> mean: 101.257 ms +- 0.346 ms for {'dx': 45, 'duration': 0.1, 'nbSteps': None, 'goBack': True}\n",
      "-> mean: 101.121 ms +- 0.185 ms for {'dx': -45, 'duration': 0.1, 'nbSteps': None, 'goBack': True}\n",
      "-> mean: 101.090 ms +- 0.308 ms for {'dx': 50, 'duration': 0.1, 'nbSteps': None, 'goBack': True}\n",
      "-> mean: 101.101 ms +- 0.355 ms for {'dx': -50, 'duration': 0.1, 'nbSteps': None, 'goBack': True}\n",
      "-> mean: 101.247 ms +- 0.293 ms for {'dx': 55, 'duration': 0.1, 'nbSteps': None, 'goBack': True}\n",
      "-> mean: 101.076 ms +- 0.207 ms for {'dx': -55, 'duration': 0.1, 'nbSteps': None, 'goBack': True}\n",
      "-> mean: 101.517 ms +- 0.958 ms for {'dx': 60, 'duration': 0.1, 'nbSteps': None, 'goBack': True}\n",
      "-> mean: 101.179 ms +- 0.293 ms for {'dx': -60, 'duration': 0.1, 'nbSteps': None, 'goBack': True}\n",
      "-> mean: 101.226 ms +- 0.477 ms for {'dx': 65, 'duration': 0.1, 'nbSteps': None, 'goBack': True}\n",
      "-> mean: 101.191 ms +- 0.322 ms for {'dx': -65, 'duration': 0.1, 'nbSteps': None, 'goBack': True}\n",
      "-> mean: 101.136 ms +- 0.212 ms for {'dx': 70, 'duration': 0.1, 'nbSteps': None, 'goBack': True}\n",
      "-> mean: 101.097 ms +- 0.142 ms for {'dx': -70, 'duration': 0.1, 'nbSteps': None, 'goBack': True}\n"
     ]
    }
   ],
   "source": [
    "time.sleep(5)\n",
    "mesureExec(setup2, N=3)"
   ]
  },
  {
   "cell_type": "code",
   "execution_count": null,
   "id": "ceaea53d",
   "metadata": {},
   "outputs": [
    {
     "name": "stdout",
     "output_type": "stream",
     "text": [
      "[\n",
      "    (False, {dx: 60, duration: 0.3, nbSteps: 1, goBack: True}),\n",
      "    (False, {dx: -60, duration: 0.3, nbSteps: 1, goBack: True}),\n",
      "    (False, {dx: 60, duration: 0.3, nbSteps: 2, goBack: True}),\n",
      "    (False, {dx: -60, duration: 0.3, nbSteps: 2, goBack: True}),\n",
      "    (False, {dx: 60, duration: 0.3, nbSteps: 3, goBack: True}),\n",
      "    (False, {dx: -60, duration: 0.3, nbSteps: 3, goBack: True}),\n",
      "    (False, {dx: 60, duration: 0.3, nbSteps: 5, goBack: True}),\n",
      "    (False, {dx: -60, duration: 0.3, nbSteps: 5, goBack: True}),\n",
      "    (True, {dx: 60, duration: 0.3, nbSteps: 10, goBack: True}),\n",
      "    (True, {dx: -60, duration: 0.3, nbSteps: 10, goBack: True}),\n",
      "    (True, {dx: 60, duration: 0.3, nbSteps: 20, goBack: True}),\n",
      "    (True, {dx: -60, duration: 0.3, nbSteps: 20, goBack: True}),\n",
      "    (True, {dx: 60, duration: 0.3, nbSteps: 30, goBack: True}),\n",
      "    (True, {dx: -60, duration: 0.3, nbSteps: 30, goBack: True}),\n",
      "    (True, {dx: 60, duration: 0.3, nbSteps: 60, goBack: True}),\n",
      "    (True, {dx: -60, duration: 0.3, nbSteps: 60, goBack: True}),\n",
      "    (True, {dx: 60, duration: 0.3, nbSteps: None, goBack: True}),\n",
      "    (True, {dx: -60, duration: 0.3, nbSteps: None, goBack: True})\n",
      "]\n"
     ]
    }
   ],
   "source": [
    "time.sleep(5)\n",
    "res = testCalls(setup3)\n",
    "prettyPrint(res, specificCompact={tuple, dict}, specificFormats={CallPack: lambda x:x.kwargs})"
   ]
  },
  {
   "cell_type": "code",
   "execution_count": null,
   "id": "28024ade",
   "metadata": {},
   "outputs": [
    {
     "name": "stdout",
     "output_type": "stream",
     "text": [
      "-> mean: 303.034 ms +- 3.163 ms for {'dx': 60, 'duration': 0.3, 'nbSteps': 1, 'goBack': True}\n",
      "-> mean: 300.953 ms +- 0.275 ms for {'dx': -60, 'duration': 0.3, 'nbSteps': 1, 'goBack': True}\n",
      "-> mean: 301.077 ms +- 0.132 ms for {'dx': 60, 'duration': 0.3, 'nbSteps': 2, 'goBack': True}\n",
      "-> mean: 301.049 ms +- 0.241 ms for {'dx': -60, 'duration': 0.3, 'nbSteps': 2, 'goBack': True}\n",
      "-> mean: 301.105 ms +- 0.404 ms for {'dx': 60, 'duration': 0.3, 'nbSteps': 3, 'goBack': True}\n",
      "-> mean: 301.148 ms +- 0.150 ms for {'dx': -60, 'duration': 0.3, 'nbSteps': 3, 'goBack': True}\n",
      "-> mean: 300.930 ms +- 88.001 μs for {'dx': 60, 'duration': 0.3, 'nbSteps': 5, 'goBack': True}\n",
      "-> mean: 302.198 ms +- 2.205 ms for {'dx': -60, 'duration': 0.3, 'nbSteps': 5, 'goBack': True}\n",
      "-> mean: 300.888 ms +- 0.170 ms for {'dx': 60, 'duration': 0.3, 'nbSteps': 10, 'goBack': True}\n",
      "-> mean: 301.104 ms +- 0.184 ms for {'dx': -60, 'duration': 0.3, 'nbSteps': 10, 'goBack': True}\n",
      "-> mean: 300.741 ms +- 0.183 ms for {'dx': 60, 'duration': 0.3, 'nbSteps': 20, 'goBack': True}\n",
      "-> mean: 301.165 ms +- 0.216 ms for {'dx': -60, 'duration': 0.3, 'nbSteps': 20, 'goBack': True}\n",
      "-> mean: 300.999 ms +- 0.177 ms for {'dx': 60, 'duration': 0.3, 'nbSteps': 30, 'goBack': True}\n",
      "-> mean: 301.136 ms +- 0.171 ms for {'dx': -60, 'duration': 0.3, 'nbSteps': 30, 'goBack': True}\n",
      "-> mean: 301.042 ms +- 0.164 ms for {'dx': 60, 'duration': 0.3, 'nbSteps': 60, 'goBack': True}\n",
      "-> mean: 300.917 ms +- 0.114 ms for {'dx': -60, 'duration': 0.3, 'nbSteps': 60, 'goBack': True}\n",
      "-> mean: 301.169 ms +- 0.331 ms for {'dx': 60, 'duration': 0.3, 'nbSteps': None, 'goBack': True}\n",
      "-> mean: 301.256 ms +- 0.234 ms for {'dx': -60, 'duration': 0.3, 'nbSteps': None, 'goBack': True}\n"
     ]
    }
   ],
   "source": [
    "time.sleep(5)\n",
    "mesureExec(setup3, N=3)"
   ]
  },
  {
   "cell_type": "code",
   "execution_count": null,
   "id": "c6683223",
   "metadata": {},
   "outputs": [
    {
     "name": "stdout",
     "output_type": "stream",
     "text": [
      "[\n",
      "    (False, {dx: 55, duration: 0.1, nbSteps: None, goBack: True}),\n",
      "    (False, {dx: -55, duration: 0.1, nbSteps: None, goBack: True}),\n",
      "    (False, {dx: 56, duration: 0.1, nbSteps: None, goBack: True}),\n",
      "    (False, {dx: -56, duration: 0.1, nbSteps: None, goBack: True}),\n",
      "    (False, {dx: 57, duration: 0.1, nbSteps: None, goBack: True}),\n",
      "    (False, {dx: -57, duration: 0.1, nbSteps: None, goBack: True}),\n",
      "    (False, {dx: 58, duration: 0.1, nbSteps: None, goBack: True}),\n",
      "    (False, {dx: -58, duration: 0.1, nbSteps: None, goBack: True}),\n",
      "    (True, {dx: 59, duration: 0.1, nbSteps: None, goBack: True}),\n",
      "    (False, {dx: -59, duration: 0.1, nbSteps: None, goBack: True}),\n",
      "    (True, {dx: 60, duration: 0.1, nbSteps: None, goBack: True}),\n",
      "    (True, {dx: -60, duration: 0.1, nbSteps: None, goBack: True}),\n",
      "    (False, {dx: 61, duration: 0.1, nbSteps: None, goBack: True}),\n",
      "    (True, {dx: -61, duration: 0.1, nbSteps: None, goBack: True}),\n",
      "    (True, {dx: 62, duration: 0.1, nbSteps: None, goBack: True}),\n",
      "    (True, {dx: -62, duration: 0.1, nbSteps: None, goBack: True}),\n",
      "    (False, {dx: 63, duration: 0.1, nbSteps: None, goBack: True}),\n",
      "    (True, {dx: -63, duration: 0.1, nbSteps: None, goBack: True}),\n",
      "    (True, {dx: 64, duration: 0.1, nbSteps: None, goBack: True}),\n",
      "    (True, {dx: -64, duration: 0.1, nbSteps: None, goBack: True}),\n",
      "    (True, {dx: 65, duration: 0.1, nbSteps: None, goBack: True}),\n",
      "    (True, {dx: -65, duration: 0.1, nbSteps: None, goBack: True}),\n",
      "    (True, {dx: 66, duration: 0.1, nbSteps: None, goBack: True}),\n",
      "    (True, {dx: -66, duration: 0.1, nbSteps: None, goBack: True})\n",
      "]\n"
     ]
    }
   ],
   "source": [
    "time.sleep(5)\n",
    "res = testCalls(setup4)\n",
    "prettyPrint(res, specificCompact={tuple, dict}, specificFormats={CallPack: lambda x:x.kwargs})"
   ]
  },
  {
   "cell_type": "code",
   "execution_count": 211,
   "id": "4cbc4184",
   "metadata": {},
   "outputs": [
    {
     "name": "stdout",
     "output_type": "stream",
     "text": [
      "[\n",
      "    (False, {dx: 55, duration: 0.075, nbSteps: None, goBack: True}),\n",
      "    (False, {dx: -55, duration: 0.075, nbSteps: None, goBack: True}),\n",
      "    (False, {dx: 56, duration: 0.075, nbSteps: None, goBack: True}),\n",
      "    (False, {dx: -56, duration: 0.075, nbSteps: None, goBack: True}),\n",
      "    (False, {dx: 57, duration: 0.075, nbSteps: None, goBack: True}),\n",
      "    (False, {dx: -57, duration: 0.075, nbSteps: None, goBack: True}),\n",
      "    (False, {dx: 58, duration: 0.075, nbSteps: None, goBack: True}),\n",
      "    (False, {dx: -58, duration: 0.075, nbSteps: None, goBack: True}),\n",
      "    (False, {dx: 59, duration: 0.075, nbSteps: None, goBack: True}),\n",
      "    (False, {dx: -59, duration: 0.075, nbSteps: None, goBack: True}),\n",
      "    (False, {dx: 60, duration: 0.075, nbSteps: None, goBack: True}),\n",
      "    (False, {dx: -60, duration: 0.075, nbSteps: None, goBack: True}),\n",
      "    (False, {dx: 61, duration: 0.075, nbSteps: None, goBack: True}),\n",
      "    (False, {dx: -61, duration: 0.075, nbSteps: None, goBack: True}),\n",
      "    (True, {dx: 62, duration: 0.075, nbSteps: None, goBack: True}),\n",
      "    (False, {dx: -62, duration: 0.075, nbSteps: None, goBack: True}),\n",
      "    (True, {dx: 63, duration: 0.075, nbSteps: None, goBack: True}),\n",
      "    (True, {dx: -63, duration: 0.075, nbSteps: None, goBack: True}),\n",
      "    (True, {dx: 64, duration: 0.075, nbSteps: None, goBack: True}),\n",
      "    (False, {dx: -64, duration: 0.075, nbSteps: None, goBack: True}),\n",
      "    (True, {dx: 65, duration: 0.075, nbSteps: None, goBack: True}),\n",
      "    (True, {dx: -65, duration: 0.075, nbSteps: None, goBack: True}),\n",
      "    (True, {dx: 66, duration: 0.075, nbSteps: None, goBack: True}),\n",
      "    (True, {dx: -66, duration: 0.075, nbSteps: None, goBack: True})\n",
      "]\n"
     ]
    }
   ],
   "source": [
    "time.sleep(5)\n",
    "res = testCalls(setup5)\n",
    "prettyPrint(res, specificCompact={tuple, dict}, specificFormats={CallPack: lambda x:x.kwargs})"
   ]
  },
  {
   "cell_type": "code",
   "execution_count": 226,
   "id": "b89ebaa2",
   "metadata": {},
   "outputs": [
    {
     "name": "stdout",
     "output_type": "stream",
     "text": [
      "[\n",
      "    (False, {dx: 55, duration: 0.2, X: 3}),\n",
      "    (False, {dx: -55, duration: 0.2, X: 3}),\n",
      "    (True, {dx: 60, duration: 0.2, X: 3}),\n",
      "    (True, {dx: -60, duration: 0.2, X: 3}),\n",
      "    (True, {dx: 65, duration: 0.2, X: 3}),\n",
      "    (True, {dx: -65, duration: 0.2, X: 3}),\n",
      "    (True, {dx: 70, duration: 0.2, X: 3}),\n",
      "    (True, {dx: -70, duration: 0.2, X: 3}),\n",
      "    (False, {dx: 75, duration: 0.2, X: 3}),\n",
      "    (False, {dx: -75, duration: 0.2, X: 3}),\n",
      "    (True, {dx: 80, duration: 0.2, X: 3}),\n",
      "    (True, {dx: -80, duration: 0.2, X: 3})\n",
      "]\n"
     ]
    }
   ],
   "source": [
    "time.sleep(5)\n",
    "res = testCalls(setup1_by3)\n",
    "prettyPrint(res, specificCompact={tuple, dict}, specificFormats={CallPack: lambda x:x.kwargs})"
   ]
  },
  {
   "cell_type": "code",
   "execution_count": 246,
   "id": "a0b8cbc4",
   "metadata": {},
   "outputs": [
    {
     "name": "stdout",
     "output_type": "stream",
     "text": [
      "[\n",
      "    (True, {duration: 0.1}),\n",
      "    (True, {duration: 0.075}),\n",
      "    (True, {duration: 0.05}),\n",
      "    (True, {duration: 0.025}),\n",
      "    (False, {duration: 0.01}),\n",
      "    (True, {duration: 0.005}),\n",
      "    (True, {duration: 0.001}),\n",
      "    (True, {duration: None})\n",
      "]\n"
     ]
    }
   ],
   "source": [
    "time.sleep(5)\n",
    "res = testCalls(setup1_rotate)\n",
    "prettyPrint(res, specificCompact={tuple, dict}, specificFormats={CallPack: lambda x:x.kwargs})"
   ]
  },
  {
   "cell_type": "code",
   "execution_count": 247,
   "id": "af7eb24e",
   "metadata": {},
   "outputs": [
    {
     "name": "stdout",
     "output_type": "stream",
     "text": [
      "-> mean: 203.632 ms +- 3.590 ms for {'duration': 0.1}\n",
      "-> mean: 151.920 ms +- 0.360 ms for {'duration': 0.075}\n",
      "-> mean: 101.401 ms +- 0.363 ms for {'duration': 0.05}\n",
      "-> mean: 51.487 ms +- 0.275 ms for {'duration': 0.025}\n",
      "-> mean: 21.417 ms +- 0.386 ms for {'duration': 0.01}\n",
      "-> mean: 11.310 ms +- 0.310 ms for {'duration': 0.005}\n",
      "-> mean: 3.443 ms +- 0.658 ms for {'duration': 0.001}\n",
      "-> mean: 0.932 ms +- 0.167 ms for {'duration': None}\n"
     ]
    }
   ],
   "source": [
    "time.sleep(5)\n",
    "mesureExec(setup1_rotate, N=3)"
   ]
  },
  {
   "cell_type": "code",
   "execution_count": 212,
   "id": "f515af1c",
   "metadata": {},
   "outputs": [
    {
     "name": "stdout",
     "output_type": "stream",
     "text": [
      "Requested duration: 300.000 ms\n",
      "Actual duration:   300.263 ms with nbNoSleep=0\n",
      "error: -2.633e-04 sec\n",
      "total slept time: 300.194 ms\n",
      "average time slept: mean(real)=10.721 ms | mean(targets)=10.436 ms | oversleep=0.285 ms\n"
     ]
    }
   ],
   "source": [
    "# researche for better sleep control\n",
    "def action() -> None:\n",
    "    # Simulate a fast operation\n",
    "    pass\n",
    "\n",
    "def run_precise_loop(duration: float, N: int) -> None:\n",
    "    start = time.perf_counter()\n",
    "    step = duration / N\n",
    "    nbNoSleep = 0\n",
    "    targets = []\n",
    "    real = []\n",
    "    \n",
    "\n",
    "    for i in range(N):\n",
    "        action()\n",
    "        target = start + (i+1) * step\n",
    "        sleep_time = target - time.perf_counter()\n",
    "        if sleep_time > 0:\n",
    "            t0 = time.perf_counter()\n",
    "            time.sleep(sleep_time)\n",
    "            real.append(time.perf_counter() - t0)\n",
    "            targets.append(sleep_time)\n",
    "        else: nbNoSleep += 1\n",
    "\n",
    "    end = time.perf_counter()\n",
    "    mean = lambda x: prettyTime(sum(x)/len(x))\n",
    "    oversleep = prettyTime((sum(real)/len(real)) - (sum(targets)/len(targets)))\n",
    "    realDuration = (end - start)\n",
    "    print(f\"Requested duration: {prettyTime(duration)}\")\n",
    "    print(f\"Actual duration:   {prettyTime(realDuration)} with {nbNoSleep=}\")\n",
    "    print(f\"error: {prettyTime(duration - realDuration)}\")\n",
    "    print(f\"total slept time: {prettyTime(sum(real))}\")\n",
    "    print(f\"average time slept: {mean(real)=!s} | {mean(targets)=!s} | {oversleep=!s}\")\n",
    "\n",
    "run_precise_loop(0.3, 28)"
   ]
  },
  {
   "cell_type": "code",
   "execution_count": null,
   "id": "50d2edd4",
   "metadata": {},
   "outputs": [],
   "source": [
    "# test multiple actions:\n",
    "time.sleep(5)\n",
    "\n",
    "putInMemory()\n",
    "time.sleep(0.25)\n",
    "\n",
    "rotateBy(3)\n",
    "time.sleep(0.1)\n",
    "\n",
    "slideBy(-3)\n",
    "time.sleep(0.05)\n",
    "\n",
    "dropBlock()"
   ]
  },
  {
   "cell_type": "code",
   "execution_count": null,
   "id": "0bb4a2d0",
   "metadata": {},
   "outputs": [],
   "source": []
  }
 ],
 "metadata": {
  "kernelspec": {
   "display_name": "Python 3",
   "language": "python",
   "name": "python3"
  },
  "language_info": {
   "codemirror_mode": {
    "name": "ipython",
    "version": 3
   },
   "file_extension": ".py",
   "mimetype": "text/x-python",
   "name": "python",
   "nbconvert_exporter": "python",
   "pygments_lexer": "ipython3",
   "version": "3.12.4"
  }
 },
 "nbformat": 4,
 "nbformat_minor": 5
}
